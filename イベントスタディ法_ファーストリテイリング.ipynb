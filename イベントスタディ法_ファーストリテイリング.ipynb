{
  "nbformat": 4,
  "nbformat_minor": 0,
  "metadata": {
    "colab": {
      "provenance": [],
      "authorship_tag": "ABX9TyNE1bXZ3cfuy5D1soKkQM1t",
      "include_colab_link": true
    },
    "kernelspec": {
      "name": "python3",
      "display_name": "Python 3"
    },
    "language_info": {
      "name": "python"
    }
  },
  "cells": [
    {
      "cell_type": "markdown",
      "metadata": {
        "id": "view-in-github",
        "colab_type": "text"
      },
      "source": [
        "<a href=\"https://colab.research.google.com/github/taito-s-0106/ichiyasaGitSample/blob/master/%E3%82%A4%E3%83%99%E3%83%B3%E3%83%88%E3%82%B9%E3%82%BF%E3%83%87%E3%82%A3%E6%B3%95_%E3%83%95%E3%82%A1%E3%83%BC%E3%82%B9%E3%83%88%E3%83%AA%E3%83%86%E3%82%A4%E3%83%AA%E3%83%B3%E3%82%B0.ipynb\" target=\"_parent\"><img src=\"https://colab.research.google.com/assets/colab-badge.svg\" alt=\"Open In Colab\"/></a>"
      ]
    },
    {
      "cell_type": "code",
      "execution_count": 665,
      "metadata": {
        "id": "vK2Vc3T-9lSC"
      },
      "outputs": [],
      "source": [
        "import pandas as pd\n",
        "import statsmodels.api as sm\n",
        "import matplotlib.pyplot as plt\n",
        "\n",
        "# ファーストリテイリング（9983.T）の株価データとTOPIXのデータをStooqから取得\n",
        "ticker_first_retailing = '9983.JP'\n",
        "ticker_topix = '^TPX'\n",
        "\n",
        "# 取得期間\n",
        "start_date = '2024-07-31'\n",
        "end_date = '2024-11-15'"
      ]
    },
    {
      "cell_type": "code",
      "source": [
        "# Stooqからデータを取得する関数\n",
        "def get_stooq_data(ticker, start_date, end_date):\n",
        "    url = f'https://stooq.com/q/d/l/?s={ticker}&d1={start_date.replace(\"-\", \"\")}&d2={end_date.replace(\"-\", \"\")}&i=d'\n",
        "    df = pd.read_csv(url)\n",
        "    df.columns = df.columns.str.strip()  # 列名の前後の空白を削除\n",
        "    # Check if 'Date' column exists, if not, try other common names\n",
        "    if 'Date' not in df.columns:\n",
        "        if 'date' in df.columns:\n",
        "            df.rename(columns={'date': 'Date'}, inplace=True)  # Rename 'date' to 'Date'\n",
        "        else:\n",
        "            # If no common date column found, raise an error or handle it accordingly\n",
        "            raise KeyError(f\"Date column not found in DataFrame for ticker: {ticker}. Available columns: {df.columns.tolist()}\")\n",
        "    df['Date'] = pd.to_datetime(df['Date'])\n",
        "    df.set_index('Date', inplace=True)\n",
        "    return df\n"
      ],
      "metadata": {
        "id": "1XfQtnxaAE9f"
      },
      "execution_count": 666,
      "outputs": []
    },
    {
      "cell_type": "code",
      "source": [
        "# データ取得\n",
        "first_retailing_df = get_stooq_data(ticker_first_retailing, start_date, end_date)\n",
        "topix_df = get_stooq_data(ticker_topix, start_date, end_date)\n"
      ],
      "metadata": {
        "id": "ZaekG86-GDrU"
      },
      "execution_count": 667,
      "outputs": []
    },
    {
      "cell_type": "code",
      "source": [
        "# データの確認\n",
        "print(first_retailing_df.head())\n",
        "print(topix_df.head())"
      ],
      "metadata": {
        "colab": {
          "base_uri": "https://localhost:8080/"
        },
        "id": "TzxNrHFuHMOt",
        "outputId": "4a43d73d-3e58-4b1b-9060-97ec2f902e08"
      },
      "execution_count": 668,
      "outputs": [
        {
          "output_type": "stream",
          "name": "stdout",
          "text": [
            "             Open   High    Low  Close   Volume\n",
            "Date                                           \n",
            "2024-07-31  40550  42090  40500  41650  1969700\n",
            "2024-08-01  40980  41100  39790  41100  1992500\n",
            "2024-08-02  39850  41100  39850  40340  2784800\n",
            "2024-08-05  39640  40080  35140  36470  3144500\n",
            "2024-08-06  39210  39660  36710  39320  4001900\n",
            "               Open     High      Low    Close      Volume\n",
            "Date                                                      \n",
            "2024-07-31  2733.28  2799.48  2720.64  2794.26  2326259600\n",
            "2024-08-01  2767.44  2768.22  2684.91  2703.69  2773892500\n",
            "2024-08-02  2653.94  2656.63  2536.28  2537.60  3167245800\n",
            "2024-08-05  2488.25  2489.22  2206.73  2227.15  4326680200\n",
            "2024-08-06  2271.50  2470.24  2270.93  2434.21  3652526800\n"
          ]
        }
      ]
    },
    {
      "cell_type": "code",
      "source": [
        "# リターンを計算\n",
        "first_retailing_df['Return'] = first_retailing_df['Close'].pct_change()\n",
        "topix_df['Return'] = topix_df['Close'].pct_change()"
      ],
      "metadata": {
        "id": "gPx_VlzJHJgq"
      },
      "execution_count": 669,
      "outputs": []
    },
    {
      "cell_type": "code",
      "source": [
        "# データを結合\n",
        "merged_df = first_retailing_df[['Return']].join(topix_df[['Return']], lsuffix='_first', rsuffix='_topix')\n"
      ],
      "metadata": {
        "id": "RxFXh85x9oHY"
      },
      "execution_count": 670,
      "outputs": []
    },
    {
      "cell_type": "code",
      "source": [
        "\n",
        "# 欠損値を削除\n",
        "merged_df.dropna(inplace=True)"
      ],
      "metadata": {
        "id": "Gk5OmpwO90U5"
      },
      "execution_count": 671,
      "outputs": []
    },
    {
      "cell_type": "code",
      "source": [
        "# データの確認\n",
        "print(merged_df.head())\n",
        "print(merged_df.describe())\n",
        "print(merged_df.isna().sum())\n"
      ],
      "metadata": {
        "colab": {
          "base_uri": "https://localhost:8080/"
        },
        "id": "459Pyi_U93Tt",
        "outputId": "c15559ef-8b42-4e70-d98a-882b729bc966"
      },
      "execution_count": 672,
      "outputs": [
        {
          "output_type": "stream",
          "name": "stdout",
          "text": [
            "            Return_first  Return_topix\n",
            "Date                                  \n",
            "2024-08-01     -0.013205     -0.032413\n",
            "2024-08-02     -0.018491     -0.061431\n",
            "2024-08-05     -0.095935     -0.122340\n",
            "2024-08-06      0.078146      0.092971\n",
            "2024-08-07     -0.006612      0.022595\n",
            "       Return_first  Return_topix\n",
            "count     70.000000     70.000000\n",
            "mean       0.003003      0.000167\n",
            "std        0.025429      0.023854\n",
            "min       -0.095935     -0.122340\n",
            "25%       -0.008877     -0.006404\n",
            "50%        0.003214      0.001622\n",
            "75%        0.016451      0.008604\n",
            "max        0.078146      0.092971\n",
            "Return_first    0\n",
            "Return_topix    0\n",
            "dtype: int64\n"
          ]
        }
      ]
    },
    {
      "cell_type": "code",
      "source": [
        "# 市場モデルの推定\n",
        "X = merged_df['Return_topix']\n",
        "Y = merged_df['Return_first']\n",
        "X = sm.add_constant(X)"
      ],
      "metadata": {
        "id": "JoMTGJlk-SOk"
      },
      "execution_count": 673,
      "outputs": []
    },
    {
      "cell_type": "code",
      "source": [
        "# 定数項を追加\n",
        "\n",
        "model = sm.OLS(Y, X).fit()"
      ],
      "metadata": {
        "id": "TBwT6I8095e1"
      },
      "execution_count": 674,
      "outputs": []
    },
    {
      "cell_type": "code",
      "source": [
        "# 推定結果を表示\n",
        "print(model.summary())"
      ],
      "metadata": {
        "colab": {
          "base_uri": "https://localhost:8080/"
        },
        "id": "oMdDqoXj99yz",
        "outputId": "80d044ef-51e3-4208-e684-e8e17ea57f09"
      },
      "execution_count": 675,
      "outputs": [
        {
          "output_type": "stream",
          "name": "stdout",
          "text": [
            "                            OLS Regression Results                            \n",
            "==============================================================================\n",
            "Dep. Variable:           Return_first   R-squared:                       0.599\n",
            "Model:                            OLS   Adj. R-squared:                  0.593\n",
            "Method:                 Least Squares   F-statistic:                     101.7\n",
            "Date:                Wed, 20 Nov 2024   Prob (F-statistic):           3.86e-15\n",
            "Time:                        13:21:12   Log-Likelihood:                 190.22\n",
            "No. Observations:                  70   AIC:                            -376.4\n",
            "Df Residuals:                      68   BIC:                            -371.9\n",
            "Df Model:                           1                                         \n",
            "Covariance Type:            nonrobust                                         \n",
            "================================================================================\n",
            "                   coef    std err          t      P>|t|      [0.025      0.975]\n",
            "--------------------------------------------------------------------------------\n",
            "const            0.0029      0.002      1.478      0.144      -0.001       0.007\n",
            "Return_topix     0.8253      0.082     10.085      0.000       0.662       0.989\n",
            "==============================================================================\n",
            "Omnibus:                        0.725   Durbin-Watson:                   2.198\n",
            "Prob(Omnibus):                  0.696   Jarque-Bera (JB):                0.330\n",
            "Skew:                          -0.149   Prob(JB):                        0.848\n",
            "Kurtosis:                       3.157   Cond. No.                         42.2\n",
            "==============================================================================\n",
            "\n",
            "Notes:\n",
            "[1] Standard Errors assume that the covariance matrix of the errors is correctly specified.\n"
          ]
        }
      ]
    },
    {
      "cell_type": "code",
      "source": [
        "# イベントスタディの実施\n",
        "event_date = '2024-10-31'  # 仮のイベント日\n",
        "event_window = 10  # イベントウィンドウ（前後10営業日）\n",
        "\n",
        "event_start = pd.to_datetime(event_date) - pd.Timedelta(days=event_window)\n",
        "event_end = pd.to_datetime(event_date) + pd.Timedelta(days=event_window)\n",
        "\n",
        "event_data = merged_df.loc[event_start:event_end]\n",
        "\n"
      ],
      "metadata": {
        "id": "FcshxXwa-B0l"
      },
      "execution_count": 676,
      "outputs": []
    },
    {
      "cell_type": "code",
      "source": [
        "# イベントウィンドウ内のデータ確認\n",
        "print(event_data.head())\n",
        "print(event_data.describe())\n",
        "print(event_data.isna().sum())"
      ],
      "metadata": {
        "colab": {
          "base_uri": "https://localhost:8080/"
        },
        "id": "UvPIDK9hYg32",
        "outputId": "6739cf52-8e6b-4fea-9fd0-021df71c9238"
      },
      "execution_count": 677,
      "outputs": [
        {
          "output_type": "stream",
          "name": "stdout",
          "text": [
            "            Return_first  Return_topix\n",
            "Date                                  \n",
            "2024-10-21     -0.008400     -0.003373\n",
            "2024-10-22     -0.031815     -0.010612\n",
            "2024-10-23     -0.016722     -0.005472\n",
            "2024-10-24     -0.007317     -0.000527\n",
            "2024-10-25     -0.006972     -0.006545\n",
            "       Return_first  Return_topix\n",
            "count     13.000000     13.000000\n",
            "mean      -0.006311      0.003025\n",
            "std        0.017125      0.009112\n",
            "min       -0.032969     -0.010612\n",
            "25%       -0.016722     -0.003373\n",
            "50%       -0.007317     -0.000339\n",
            "75%        0.002181      0.009120\n",
            "max        0.025458      0.019390\n",
            "Return_first    0\n",
            "Return_topix    0\n",
            "dtype: int64\n"
          ]
        }
      ]
    },
    {
      "cell_type": "code",
      "source": [
        "# 異常リターンの計算\n",
        "event_data['Predicted_Return'] = model.predict(sm.add_constant(event_data['Return_topix']))\n",
        "event_data['Abnormal_Return'] = event_data['Return_first'] - event_data['Predicted_Return']"
      ],
      "metadata": {
        "colab": {
          "base_uri": "https://localhost:8080/"
        },
        "id": "ObiP_mnSYl4H",
        "outputId": "b1688542-47be-4c9a-f872-96f7e153ceef"
      },
      "execution_count": 678,
      "outputs": [
        {
          "output_type": "stream",
          "name": "stderr",
          "text": [
            "<ipython-input-678-4cc811945d0b>:2: SettingWithCopyWarning: \n",
            "A value is trying to be set on a copy of a slice from a DataFrame.\n",
            "Try using .loc[row_indexer,col_indexer] = value instead\n",
            "\n",
            "See the caveats in the documentation: https://pandas.pydata.org/pandas-docs/stable/user_guide/indexing.html#returning-a-view-versus-a-copy\n",
            "  event_data['Predicted_Return'] = model.predict(sm.add_constant(event_data['Return_topix']))\n",
            "<ipython-input-678-4cc811945d0b>:3: SettingWithCopyWarning: \n",
            "A value is trying to be set on a copy of a slice from a DataFrame.\n",
            "Try using .loc[row_indexer,col_indexer] = value instead\n",
            "\n",
            "See the caveats in the documentation: https://pandas.pydata.org/pandas-docs/stable/user_guide/indexing.html#returning-a-view-versus-a-copy\n",
            "  event_data['Abnormal_Return'] = event_data['Return_first'] - event_data['Predicted_Return']\n"
          ]
        }
      ]
    },
    {
      "cell_type": "code",
      "source": [
        "# 異常リターンの累積和を計算（累積異常リターン）\n",
        "event_data['CAR'] = event_data['Abnormal_Return'].cumsum()"
      ],
      "metadata": {
        "colab": {
          "base_uri": "https://localhost:8080/"
        },
        "id": "tdGYrs2VYo_X",
        "outputId": "a823e316-d920-4a0c-9d98-bc458f9065ee"
      },
      "execution_count": 679,
      "outputs": [
        {
          "output_type": "stream",
          "name": "stderr",
          "text": [
            "<ipython-input-679-01f55fa07e3f>:2: SettingWithCopyWarning: \n",
            "A value is trying to be set on a copy of a slice from a DataFrame.\n",
            "Try using .loc[row_indexer,col_indexer] = value instead\n",
            "\n",
            "See the caveats in the documentation: https://pandas.pydata.org/pandas-docs/stable/user_guide/indexing.html#returning-a-view-versus-a-copy\n",
            "  event_data['CAR'] = event_data['Abnormal_Return'].cumsum()\n"
          ]
        }
      ]
    },
    {
      "cell_type": "code",
      "source": [
        "# 結果をプロット\n",
        "plt.figure(figsize=(12, 6))\n",
        "plt.plot(event_data.index, event_data['CAR'], marker='o')\n",
        "plt.axvline(pd.to_datetime(event_date), color='r', linestyle='--')\n",
        "plt.title('Cumulative Abnormal Returns (CAR)')\n",
        "plt.xlabel('Date')\n",
        "plt.ylabel('CAR')\n",
        "plt.grid(True)\n",
        "plt.show()"
      ],
      "metadata": {
        "colab": {
          "base_uri": "https://localhost:8080/",
          "height": 445
        },
        "id": "nDi-VeDxYsH4",
        "outputId": "f334d21f-0fe4-4851-ce40-8ec32beb5fd5"
      },
      "execution_count": 680,
      "outputs": [
        {
          "output_type": "display_data",
          "data": {
            "text/plain": [
              "<Figure size 1200x600 with 1 Axes>"
            ],
            "image/png": "[encoded data removed]"
          },
          "metadata": {}
        }
      ]
    },
    {
      "cell_type": "code",
      "source": [
        "import numpy as np\n",
        "from scipy import stats"
      ],
      "metadata": {
        "id": "f3Prg0escyA-"
      },
      "execution_count": 681,
      "outputs": []
    },
    {
      "cell_type": "code",
      "source": [
        "# 異常リターンの計算（前提として event_data['Abnormal_Return'] が存在する）\n",
        "abnormal_returns = event_data['Abnormal_Return']\n"
      ],
      "metadata": {
        "id": "Uih6wmsqdTfH"
      },
      "execution_count": 682,
      "outputs": []
    },
    {
      "cell_type": "code",
      "source": [
        "# 異常リターンの平均と標準誤差を計算\n",
        "mean_ar = np.mean(abnormal_returns)\n",
        "std_ar = np.std(abnormal_returns, ddof=1)\n",
        "se_ar = std_ar / np.sqrt(len(abnormal_returns))\n"
      ],
      "metadata": {
        "id": "CmQQjILJdGdS"
      },
      "execution_count": 683,
      "outputs": []
    },
    {
      "cell_type": "code",
      "source": [
        "# t値を計算\n",
        "t_value = mean_ar / se_ar\n"
      ],
      "metadata": {
        "id": "9JFPxPtgdHJC"
      },
      "execution_count": 684,
      "outputs": []
    },
    {
      "cell_type": "code",
      "source": [
        "# 有意水準5%でのt検定\n",
        "alpha = 0.05\n",
        "df = len(abnormal_returns) - 1  # 自由度\n",
        "t_critical = stats.t.ppf(1 - alpha/2, df)"
      ],
      "metadata": {
        "id": "54tMGyMCdZR9"
      },
      "execution_count": 685,
      "outputs": []
    },
    {
      "cell_type": "code",
      "source": [
        "# 結果を表示\n",
        "print(f\"t値: {t_value}\")\n",
        "print(f\"臨界値: {t_critical}\")"
      ],
      "metadata": {
        "colab": {
          "base_uri": "https://localhost:8080/"
        },
        "id": "2r4PrFZDdbP2",
        "outputId": "486310a3-3364-404d-977a-a1ee42f2c728"
      },
      "execution_count": 686,
      "outputs": [
        {
          "output_type": "stream",
          "name": "stdout",
          "text": [
            "t値: -3.0177592612495117\n",
            "臨界値: 2.1788128296634177\n"
          ]
        }
      ]
    },
    {
      "cell_type": "code",
      "source": [
        "if abs(t_value) > t_critical:\n",
        "    print(\"異常リターンは有意です。\")\n",
        "else:\n",
        "    print(\"異常リターンは有意ではありません。\")\n"
      ],
      "metadata": {
        "colab": {
          "base_uri": "https://localhost:8080/"
        },
        "id": "1R0byTmdddQd",
        "outputId": "02c01a59-8836-49c8-fa07-8e7dbbdf9ebe"
      },
      "execution_count": 687,
      "outputs": [
        {
          "output_type": "stream",
          "name": "stdout",
          "text": [
            "異常リターンは有意です。\n"
          ]
        }
      ]
    },
    {
      "cell_type": "code",
      "source": [
        "# 移動ウィンドウの設定\n",
        "window_size = 5  # 5日間の移動ウィンドウ\n",
        "alpha = 0.05  # 有意水準\n"
      ],
      "metadata": {
        "id": "Hb9VEdSjdgDQ"
      },
      "execution_count": 688,
      "outputs": []
    },
    {
      "cell_type": "code",
      "source": [
        "# 移動ウィンドウ内の異常リターンの有意性を検定（イベント発生日を含む）\n",
        "def moving_window_t_test_post_event(abnormal_returns, event_index, window_size, alpha):\n",
        "    significant_periods = []\n",
        "    for i in range(event_index, len(abnormal_returns) - window_size + 1):\n",
        "        window_ar = abnormal_returns[i:i + window_size]\n",
        "        mean_ar = np.mean(window_ar)\n",
        "        std_ar = np.std(window_ar, ddof=1)\n",
        "        se_ar = std_ar / np.sqrt(window_size)\n",
        "        t_value = mean_ar / se_ar\n",
        "        df = window_size - 1\n",
        "        t_critical = stats.t.ppf(1 - alpha/2, df)\n",
        "        if abs(t_value) > t_critical:\n",
        "            significant_periods.append((i, i + window_size - 1))\n",
        "    return significant_periods"
      ],
      "metadata": {
        "id": "iAwvD0L-fgnK"
      },
      "execution_count": 689,
      "outputs": []
    },
    {
      "cell_type": "code",
      "source": [
        "# 異常リターンの計算（前提として event_data['Abnormal_Return'] が存在する）\n",
        "abnormal_returns = event_data['Abnormal_Return'].values\n"
      ],
      "metadata": {
        "id": "72qKvRO4fg9x"
      },
      "execution_count": 690,
      "outputs": []
    },
    {
      "cell_type": "code",
      "source": [
        "event_index = event_data.index.get_loc(event_date)"
      ],
      "metadata": {
        "id": "wns5GryWn5lr"
      },
      "execution_count": 691,
      "outputs": []
    },
    {
      "cell_type": "code",
      "source": [
        "# イベント発生日を含む有意な期間を特定\n",
        "significant_periods_post_event = moving_window_t_test_post_event(abnormal_returns, event_index, window_size, alpha)"
      ],
      "metadata": {
        "id": "z0CvSctvfkQL"
      },
      "execution_count": 692,
      "outputs": []
    },
    {
      "cell_type": "code",
      "source": [
        "# 有意な期間を全て出力\n",
        "if significant_periods_post_event:\n",
        "    print(\"有意な期間（イベント発生後）:\")\n",
        "    for start, end in significant_periods_post_event:\n",
        "        start_date_post_event = event_data.index[start]\n",
        "        end_date_post_event = event_data.index[end]\n",
        "        print(f\"開始日: {start_date_post_event}, 終了日: {end_date_post_event}\")\n",
        "else:\n",
        "    print(\"有意な期間（イベント発生後）は見つかりませんでした。\")"
      ],
      "metadata": {
        "colab": {
          "base_uri": "https://localhost:8080/"
        },
        "id": "FyXnEzw6gAvb",
        "outputId": "cb81d5ef-d9d8-4bbc-af3c-1823865486f4"
      },
      "execution_count": 693,
      "outputs": [
        {
          "output_type": "stream",
          "name": "stdout",
          "text": [
            "有意な期間（イベント発生後）は見つかりませんでした。\n"
          ]
        }
      ]
    },
    {
      "cell_type": "code",
      "source": [],
      "metadata": {
        "id": "8hSqJ7Atfotm"
      },
      "execution_count": 693,
      "outputs": []
    }
  ]
}